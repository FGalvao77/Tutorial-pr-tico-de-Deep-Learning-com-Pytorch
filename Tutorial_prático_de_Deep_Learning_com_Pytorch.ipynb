{
  "nbformat": 4,
  "nbformat_minor": 0,
  "metadata": {
    "colab": {
      "name": "Tutorial prático de Deep Learning com Pytorch.ipynb",
      "provenance": [],
      "collapsed_sections": [],
      "authorship_tag": "ABX9TyOaJh7zfwfy7rc8aXpTZfTw",
      "include_colab_link": true
    },
    "kernelspec": {
      "name": "python3",
      "display_name": "Python 3"
    },
    "language_info": {
      "name": "python"
    },
    "widgets": {
      "application/vnd.jupyter.widget-state+json": {
        "d7537bb60b6141fa88d6ac4a4f5ba5a7": {
          "model_module": "@jupyter-widgets/controls",
          "model_name": "HBoxModel",
          "model_module_version": "1.5.0",
          "state": {
            "_view_name": "HBoxView",
            "_dom_classes": [],
            "_model_name": "HBoxModel",
            "_view_module": "@jupyter-widgets/controls",
            "_model_module_version": "1.5.0",
            "_view_count": null,
            "_view_module_version": "1.5.0",
            "box_style": "",
            "layout": "IPY_MODEL_a953425790d944038c9245bc18ff5b35",
            "_model_module": "@jupyter-widgets/controls",
            "children": [
              "IPY_MODEL_f35e9972947a46f09f37b140fba32e55",
              "IPY_MODEL_0ac92cc96ef2401ba5da7be11c9bf8da",
              "IPY_MODEL_585026930aaa4e48a0a590aeb88b5e81"
            ]
          }
        },
        "a953425790d944038c9245bc18ff5b35": {
          "model_module": "@jupyter-widgets/base",
          "model_name": "LayoutModel",
          "model_module_version": "1.2.0",
          "state": {
            "_view_name": "LayoutView",
            "grid_template_rows": null,
            "right": null,
            "justify_content": null,
            "_view_module": "@jupyter-widgets/base",
            "overflow": null,
            "_model_module_version": "1.2.0",
            "_view_count": null,
            "flex_flow": null,
            "width": null,
            "min_width": null,
            "border": null,
            "align_items": null,
            "bottom": null,
            "_model_module": "@jupyter-widgets/base",
            "top": null,
            "grid_column": null,
            "overflow_y": null,
            "overflow_x": null,
            "grid_auto_flow": null,
            "grid_area": null,
            "grid_template_columns": null,
            "flex": null,
            "_model_name": "LayoutModel",
            "justify_items": null,
            "grid_row": null,
            "max_height": null,
            "align_content": null,
            "visibility": null,
            "align_self": null,
            "height": null,
            "min_height": null,
            "padding": null,
            "grid_auto_rows": null,
            "grid_gap": null,
            "max_width": null,
            "order": null,
            "_view_module_version": "1.2.0",
            "grid_template_areas": null,
            "object_position": null,
            "object_fit": null,
            "grid_auto_columns": null,
            "margin": null,
            "display": null,
            "left": null
          }
        },
        "f35e9972947a46f09f37b140fba32e55": {
          "model_module": "@jupyter-widgets/controls",
          "model_name": "HTMLModel",
          "model_module_version": "1.5.0",
          "state": {
            "_view_name": "HTMLView",
            "style": "IPY_MODEL_c8ff336ac54e43448f49afd049072b7b",
            "_dom_classes": [],
            "description": "",
            "_model_name": "HTMLModel",
            "placeholder": "​",
            "_view_module": "@jupyter-widgets/controls",
            "_model_module_version": "1.5.0",
            "value": "",
            "_view_count": null,
            "_view_module_version": "1.5.0",
            "description_tooltip": null,
            "_model_module": "@jupyter-widgets/controls",
            "layout": "IPY_MODEL_625b390453ec44d88cfebba9edeb9af3"
          }
        },
        "0ac92cc96ef2401ba5da7be11c9bf8da": {
          "model_module": "@jupyter-widgets/controls",
          "model_name": "FloatProgressModel",
          "model_module_version": "1.5.0",
          "state": {
            "_view_name": "ProgressView",
            "style": "IPY_MODEL_6a4ef99046a74f06b5fe2a59cbf57a91",
            "_dom_classes": [],
            "description": "",
            "_model_name": "FloatProgressModel",
            "bar_style": "success",
            "max": 26421880,
            "_view_module": "@jupyter-widgets/controls",
            "_model_module_version": "1.5.0",
            "value": 26421880,
            "_view_count": null,
            "_view_module_version": "1.5.0",
            "orientation": "horizontal",
            "min": 0,
            "description_tooltip": null,
            "_model_module": "@jupyter-widgets/controls",
            "layout": "IPY_MODEL_ef04654e16e14b51a14a5ddaa7ed8153"
          }
        },
        "585026930aaa4e48a0a590aeb88b5e81": {
          "model_module": "@jupyter-widgets/controls",
          "model_name": "HTMLModel",
          "model_module_version": "1.5.0",
          "state": {
            "_view_name": "HTMLView",
            "style": "IPY_MODEL_7d6b80cfdaa8471cbd3f1be08a7ee5c9",
            "_dom_classes": [],
            "description": "",
            "_model_name": "HTMLModel",
            "placeholder": "​",
            "_view_module": "@jupyter-widgets/controls",
            "_model_module_version": "1.5.0",
            "value": " 26422272/? [00:01&lt;00:00, 24206810.96it/s]",
            "_view_count": null,
            "_view_module_version": "1.5.0",
            "description_tooltip": null,
            "_model_module": "@jupyter-widgets/controls",
            "layout": "IPY_MODEL_db46ccca6a8545a4952a8b5c6438e745"
          }
        },
        "c8ff336ac54e43448f49afd049072b7b": {
          "model_module": "@jupyter-widgets/controls",
          "model_name": "DescriptionStyleModel",
          "model_module_version": "1.5.0",
          "state": {
            "_view_name": "StyleView",
            "_model_name": "DescriptionStyleModel",
            "description_width": "",
            "_view_module": "@jupyter-widgets/base",
            "_model_module_version": "1.5.0",
            "_view_count": null,
            "_view_module_version": "1.2.0",
            "_model_module": "@jupyter-widgets/controls"
          }
        },
        "625b390453ec44d88cfebba9edeb9af3": {
          "model_module": "@jupyter-widgets/base",
          "model_name": "LayoutModel",
          "model_module_version": "1.2.0",
          "state": {
            "_view_name": "LayoutView",
            "grid_template_rows": null,
            "right": null,
            "justify_content": null,
            "_view_module": "@jupyter-widgets/base",
            "overflow": null,
            "_model_module_version": "1.2.0",
            "_view_count": null,
            "flex_flow": null,
            "width": null,
            "min_width": null,
            "border": null,
            "align_items": null,
            "bottom": null,
            "_model_module": "@jupyter-widgets/base",
            "top": null,
            "grid_column": null,
            "overflow_y": null,
            "overflow_x": null,
            "grid_auto_flow": null,
            "grid_area": null,
            "grid_template_columns": null,
            "flex": null,
            "_model_name": "LayoutModel",
            "justify_items": null,
            "grid_row": null,
            "max_height": null,
            "align_content": null,
            "visibility": null,
            "align_self": null,
            "height": null,
            "min_height": null,
            "padding": null,
            "grid_auto_rows": null,
            "grid_gap": null,
            "max_width": null,
            "order": null,
            "_view_module_version": "1.2.0",
            "grid_template_areas": null,
            "object_position": null,
            "object_fit": null,
            "grid_auto_columns": null,
            "margin": null,
            "display": null,
            "left": null
          }
        },
        "6a4ef99046a74f06b5fe2a59cbf57a91": {
          "model_module": "@jupyter-widgets/controls",
          "model_name": "ProgressStyleModel",
          "model_module_version": "1.5.0",
          "state": {
            "_view_name": "StyleView",
            "_model_name": "ProgressStyleModel",
            "description_width": "",
            "_view_module": "@jupyter-widgets/base",
            "_model_module_version": "1.5.0",
            "_view_count": null,
            "_view_module_version": "1.2.0",
            "bar_color": null,
            "_model_module": "@jupyter-widgets/controls"
          }
        },
        "ef04654e16e14b51a14a5ddaa7ed8153": {
          "model_module": "@jupyter-widgets/base",
          "model_name": "LayoutModel",
          "model_module_version": "1.2.0",
          "state": {
            "_view_name": "LayoutView",
            "grid_template_rows": null,
            "right": null,
            "justify_content": null,
            "_view_module": "@jupyter-widgets/base",
            "overflow": null,
            "_model_module_version": "1.2.0",
            "_view_count": null,
            "flex_flow": null,
            "width": null,
            "min_width": null,
            "border": null,
            "align_items": null,
            "bottom": null,
            "_model_module": "@jupyter-widgets/base",
            "top": null,
            "grid_column": null,
            "overflow_y": null,
            "overflow_x": null,
            "grid_auto_flow": null,
            "grid_area": null,
            "grid_template_columns": null,
            "flex": null,
            "_model_name": "LayoutModel",
            "justify_items": null,
            "grid_row": null,
            "max_height": null,
            "align_content": null,
            "visibility": null,
            "align_self": null,
            "height": null,
            "min_height": null,
            "padding": null,
            "grid_auto_rows": null,
            "grid_gap": null,
            "max_width": null,
            "order": null,
            "_view_module_version": "1.2.0",
            "grid_template_areas": null,
            "object_position": null,
            "object_fit": null,
            "grid_auto_columns": null,
            "margin": null,
            "display": null,
            "left": null
          }
        },
        "7d6b80cfdaa8471cbd3f1be08a7ee5c9": {
          "model_module": "@jupyter-widgets/controls",
          "model_name": "DescriptionStyleModel",
          "model_module_version": "1.5.0",
          "state": {
            "_view_name": "StyleView",
            "_model_name": "DescriptionStyleModel",
            "description_width": "",
            "_view_module": "@jupyter-widgets/base",
            "_model_module_version": "1.5.0",
            "_view_count": null,
            "_view_module_version": "1.2.0",
            "_model_module": "@jupyter-widgets/controls"
          }
        },
        "db46ccca6a8545a4952a8b5c6438e745": {
          "model_module": "@jupyter-widgets/base",
          "model_name": "LayoutModel",
          "model_module_version": "1.2.0",
          "state": {
            "_view_name": "LayoutView",
            "grid_template_rows": null,
            "right": null,
            "justify_content": null,
            "_view_module": "@jupyter-widgets/base",
            "overflow": null,
            "_model_module_version": "1.2.0",
            "_view_count": null,
            "flex_flow": null,
            "width": null,
            "min_width": null,
            "border": null,
            "align_items": null,
            "bottom": null,
            "_model_module": "@jupyter-widgets/base",
            "top": null,
            "grid_column": null,
            "overflow_y": null,
            "overflow_x": null,
            "grid_auto_flow": null,
            "grid_area": null,
            "grid_template_columns": null,
            "flex": null,
            "_model_name": "LayoutModel",
            "justify_items": null,
            "grid_row": null,
            "max_height": null,
            "align_content": null,
            "visibility": null,
            "align_self": null,
            "height": null,
            "min_height": null,
            "padding": null,
            "grid_auto_rows": null,
            "grid_gap": null,
            "max_width": null,
            "order": null,
            "_view_module_version": "1.2.0",
            "grid_template_areas": null,
            "object_position": null,
            "object_fit": null,
            "grid_auto_columns": null,
            "margin": null,
            "display": null,
            "left": null
          }
        },
        "38e355109b98401bac353dae229eeeb6": {
          "model_module": "@jupyter-widgets/controls",
          "model_name": "HBoxModel",
          "model_module_version": "1.5.0",
          "state": {
            "_view_name": "HBoxView",
            "_dom_classes": [],
            "_model_name": "HBoxModel",
            "_view_module": "@jupyter-widgets/controls",
            "_model_module_version": "1.5.0",
            "_view_count": null,
            "_view_module_version": "1.5.0",
            "box_style": "",
            "layout": "IPY_MODEL_58bb7750eb5d4934b2f423f2c7a55701",
            "_model_module": "@jupyter-widgets/controls",
            "children": [
              "IPY_MODEL_ad9e778f24bd4a709e3e979994aaa7a9",
              "IPY_MODEL_952214dc0a344faeb1ed0eaf26dfa175",
              "IPY_MODEL_ed4738bc03894410a76d12697eefd28a"
            ]
          }
        },
        "58bb7750eb5d4934b2f423f2c7a55701": {
          "model_module": "@jupyter-widgets/base",
          "model_name": "LayoutModel",
          "model_module_version": "1.2.0",
          "state": {
            "_view_name": "LayoutView",
            "grid_template_rows": null,
            "right": null,
            "justify_content": null,
            "_view_module": "@jupyter-widgets/base",
            "overflow": null,
            "_model_module_version": "1.2.0",
            "_view_count": null,
            "flex_flow": null,
            "width": null,
            "min_width": null,
            "border": null,
            "align_items": null,
            "bottom": null,
            "_model_module": "@jupyter-widgets/base",
            "top": null,
            "grid_column": null,
            "overflow_y": null,
            "overflow_x": null,
            "grid_auto_flow": null,
            "grid_area": null,
            "grid_template_columns": null,
            "flex": null,
            "_model_name": "LayoutModel",
            "justify_items": null,
            "grid_row": null,
            "max_height": null,
            "align_content": null,
            "visibility": null,
            "align_self": null,
            "height": null,
            "min_height": null,
            "padding": null,
            "grid_auto_rows": null,
            "grid_gap": null,
            "max_width": null,
            "order": null,
            "_view_module_version": "1.2.0",
            "grid_template_areas": null,
            "object_position": null,
            "object_fit": null,
            "grid_auto_columns": null,
            "margin": null,
            "display": null,
            "left": null
          }
        },
        "ad9e778f24bd4a709e3e979994aaa7a9": {
          "model_module": "@jupyter-widgets/controls",
          "model_name": "HTMLModel",
          "model_module_version": "1.5.0",
          "state": {
            "_view_name": "HTMLView",
            "style": "IPY_MODEL_8f62b4b66a4241f782da946c09171d32",
            "_dom_classes": [],
            "description": "",
            "_model_name": "HTMLModel",
            "placeholder": "​",
            "_view_module": "@jupyter-widgets/controls",
            "_model_module_version": "1.5.0",
            "value": "",
            "_view_count": null,
            "_view_module_version": "1.5.0",
            "description_tooltip": null,
            "_model_module": "@jupyter-widgets/controls",
            "layout": "IPY_MODEL_dbcfb570e7e3480496d5d6bf976b5325"
          }
        },
        "952214dc0a344faeb1ed0eaf26dfa175": {
          "model_module": "@jupyter-widgets/controls",
          "model_name": "FloatProgressModel",
          "model_module_version": "1.5.0",
          "state": {
            "_view_name": "ProgressView",
            "style": "IPY_MODEL_31eae29189bf4587afa01dbefea15da7",
            "_dom_classes": [],
            "description": "",
            "_model_name": "FloatProgressModel",
            "bar_style": "success",
            "max": 29515,
            "_view_module": "@jupyter-widgets/controls",
            "_model_module_version": "1.5.0",
            "value": 29515,
            "_view_count": null,
            "_view_module_version": "1.5.0",
            "orientation": "horizontal",
            "min": 0,
            "description_tooltip": null,
            "_model_module": "@jupyter-widgets/controls",
            "layout": "IPY_MODEL_9d361baa23024ca7a7a878e45845daa9"
          }
        },
        "ed4738bc03894410a76d12697eefd28a": {
          "model_module": "@jupyter-widgets/controls",
          "model_name": "HTMLModel",
          "model_module_version": "1.5.0",
          "state": {
            "_view_name": "HTMLView",
            "style": "IPY_MODEL_2cab0c7717694ad9a481a147b7fd0285",
            "_dom_classes": [],
            "description": "",
            "_model_name": "HTMLModel",
            "placeholder": "​",
            "_view_module": "@jupyter-widgets/controls",
            "_model_module_version": "1.5.0",
            "value": " 29696/? [00:00&lt;00:00, 300065.17it/s]",
            "_view_count": null,
            "_view_module_version": "1.5.0",
            "description_tooltip": null,
            "_model_module": "@jupyter-widgets/controls",
            "layout": "IPY_MODEL_e9713f4c0b8b4170998df7c653dd945c"
          }
        },
        "8f62b4b66a4241f782da946c09171d32": {
          "model_module": "@jupyter-widgets/controls",
          "model_name": "DescriptionStyleModel",
          "model_module_version": "1.5.0",
          "state": {
            "_view_name": "StyleView",
            "_model_name": "DescriptionStyleModel",
            "description_width": "",
            "_view_module": "@jupyter-widgets/base",
            "_model_module_version": "1.5.0",
            "_view_count": null,
            "_view_module_version": "1.2.0",
            "_model_module": "@jupyter-widgets/controls"
          }
        },
        "dbcfb570e7e3480496d5d6bf976b5325": {
          "model_module": "@jupyter-widgets/base",
          "model_name": "LayoutModel",
          "model_module_version": "1.2.0",
          "state": {
            "_view_name": "LayoutView",
            "grid_template_rows": null,
            "right": null,
            "justify_content": null,
            "_view_module": "@jupyter-widgets/base",
            "overflow": null,
            "_model_module_version": "1.2.0",
            "_view_count": null,
            "flex_flow": null,
            "width": null,
            "min_width": null,
            "border": null,
            "align_items": null,
            "bottom": null,
            "_model_module": "@jupyter-widgets/base",
            "top": null,
            "grid_column": null,
            "overflow_y": null,
            "overflow_x": null,
            "grid_auto_flow": null,
            "grid_area": null,
            "grid_template_columns": null,
            "flex": null,
            "_model_name": "LayoutModel",
            "justify_items": null,
            "grid_row": null,
            "max_height": null,
            "align_content": null,
            "visibility": null,
            "align_self": null,
            "height": null,
            "min_height": null,
            "padding": null,
            "grid_auto_rows": null,
            "grid_gap": null,
            "max_width": null,
            "order": null,
            "_view_module_version": "1.2.0",
            "grid_template_areas": null,
            "object_position": null,
            "object_fit": null,
            "grid_auto_columns": null,
            "margin": null,
            "display": null,
            "left": null
          }
        },
        "31eae29189bf4587afa01dbefea15da7": {
          "model_module": "@jupyter-widgets/controls",
          "model_name": "ProgressStyleModel",
          "model_module_version": "1.5.0",
          "state": {
            "_view_name": "StyleView",
            "_model_name": "ProgressStyleModel",
            "description_width": "",
            "_view_module": "@jupyter-widgets/base",
            "_model_module_version": "1.5.0",
            "_view_count": null,
            "_view_module_version": "1.2.0",
            "bar_color": null,
            "_model_module": "@jupyter-widgets/controls"
          }
        },
        "9d361baa23024ca7a7a878e45845daa9": {
          "model_module": "@jupyter-widgets/base",
          "model_name": "LayoutModel",
          "model_module_version": "1.2.0",
          "state": {
            "_view_name": "LayoutView",
            "grid_template_rows": null,
            "right": null,
            "justify_content": null,
            "_view_module": "@jupyter-widgets/base",
            "overflow": null,
            "_model_module_version": "1.2.0",
            "_view_count": null,
            "flex_flow": null,
            "width": null,
            "min_width": null,
            "border": null,
            "align_items": null,
            "bottom": null,
            "_model_module": "@jupyter-widgets/base",
            "top": null,
            "grid_column": null,
            "overflow_y": null,
            "overflow_x": null,
            "grid_auto_flow": null,
            "grid_area": null,
            "grid_template_columns": null,
            "flex": null,
            "_model_name": "LayoutModel",
            "justify_items": null,
            "grid_row": null,
            "max_height": null,
            "align_content": null,
            "visibility": null,
            "align_self": null,
            "height": null,
            "min_height": null,
            "padding": null,
            "grid_auto_rows": null,
            "grid_gap": null,
            "max_width": null,
            "order": null,
            "_view_module_version": "1.2.0",
            "grid_template_areas": null,
            "object_position": null,
            "object_fit": null,
            "grid_auto_columns": null,
            "margin": null,
            "display": null,
            "left": null
          }
        },
        "2cab0c7717694ad9a481a147b7fd0285": {
          "model_module": "@jupyter-widgets/controls",
          "model_name": "DescriptionStyleModel",
          "model_module_version": "1.5.0",
          "state": {
            "_view_name": "StyleView",
            "_model_name": "DescriptionStyleModel",
            "description_width": "",
            "_view_module": "@jupyter-widgets/base",
            "_model_module_version": "1.5.0",
            "_view_count": null,
            "_view_module_version": "1.2.0",
            "_model_module": "@jupyter-widgets/controls"
          }
        },
        "e9713f4c0b8b4170998df7c653dd945c": {
          "model_module": "@jupyter-widgets/base",
          "model_name": "LayoutModel",
          "model_module_version": "1.2.0",
          "state": {
            "_view_name": "LayoutView",
            "grid_template_rows": null,
            "right": null,
            "justify_content": null,
            "_view_module": "@jupyter-widgets/base",
            "overflow": null,
            "_model_module_version": "1.2.0",
            "_view_count": null,
            "flex_flow": null,
            "width": null,
            "min_width": null,
            "border": null,
            "align_items": null,
            "bottom": null,
            "_model_module": "@jupyter-widgets/base",
            "top": null,
            "grid_column": null,
            "overflow_y": null,
            "overflow_x": null,
            "grid_auto_flow": null,
            "grid_area": null,
            "grid_template_columns": null,
            "flex": null,
            "_model_name": "LayoutModel",
            "justify_items": null,
            "grid_row": null,
            "max_height": null,
            "align_content": null,
            "visibility": null,
            "align_self": null,
            "height": null,
            "min_height": null,
            "padding": null,
            "grid_auto_rows": null,
            "grid_gap": null,
            "max_width": null,
            "order": null,
            "_view_module_version": "1.2.0",
            "grid_template_areas": null,
            "object_position": null,
            "object_fit": null,
            "grid_auto_columns": null,
            "margin": null,
            "display": null,
            "left": null
          }
        },
        "b3f4fd9653ab40ef82adb75204f4bbc4": {
          "model_module": "@jupyter-widgets/controls",
          "model_name": "HBoxModel",
          "model_module_version": "1.5.0",
          "state": {
            "_view_name": "HBoxView",
            "_dom_classes": [],
            "_model_name": "HBoxModel",
            "_view_module": "@jupyter-widgets/controls",
            "_model_module_version": "1.5.0",
            "_view_count": null,
            "_view_module_version": "1.5.0",
            "box_style": "",
            "layout": "IPY_MODEL_ee8613276363426f8bfc58be4bfd9101",
            "_model_module": "@jupyter-widgets/controls",
            "children": [
              "IPY_MODEL_7f1796ceee2a4155a224f473734b101d",
              "IPY_MODEL_165533fab84c4c92b583f67aea948505",
              "IPY_MODEL_ffa2b25919f545f89cc36a9dc146e917"
            ]
          }
        },
        "ee8613276363426f8bfc58be4bfd9101": {
          "model_module": "@jupyter-widgets/base",
          "model_name": "LayoutModel",
          "model_module_version": "1.2.0",
          "state": {
            "_view_name": "LayoutView",
            "grid_template_rows": null,
            "right": null,
            "justify_content": null,
            "_view_module": "@jupyter-widgets/base",
            "overflow": null,
            "_model_module_version": "1.2.0",
            "_view_count": null,
            "flex_flow": null,
            "width": null,
            "min_width": null,
            "border": null,
            "align_items": null,
            "bottom": null,
            "_model_module": "@jupyter-widgets/base",
            "top": null,
            "grid_column": null,
            "overflow_y": null,
            "overflow_x": null,
            "grid_auto_flow": null,
            "grid_area": null,
            "grid_template_columns": null,
            "flex": null,
            "_model_name": "LayoutModel",
            "justify_items": null,
            "grid_row": null,
            "max_height": null,
            "align_content": null,
            "visibility": null,
            "align_self": null,
            "height": null,
            "min_height": null,
            "padding": null,
            "grid_auto_rows": null,
            "grid_gap": null,
            "max_width": null,
            "order": null,
            "_view_module_version": "1.2.0",
            "grid_template_areas": null,
            "object_position": null,
            "object_fit": null,
            "grid_auto_columns": null,
            "margin": null,
            "display": null,
            "left": null
          }
        },
        "7f1796ceee2a4155a224f473734b101d": {
          "model_module": "@jupyter-widgets/controls",
          "model_name": "HTMLModel",
          "model_module_version": "1.5.0",
          "state": {
            "_view_name": "HTMLView",
            "style": "IPY_MODEL_486fdf11d0b844d3810962d60187e388",
            "_dom_classes": [],
            "description": "",
            "_model_name": "HTMLModel",
            "placeholder": "​",
            "_view_module": "@jupyter-widgets/controls",
            "_model_module_version": "1.5.0",
            "value": "",
            "_view_count": null,
            "_view_module_version": "1.5.0",
            "description_tooltip": null,
            "_model_module": "@jupyter-widgets/controls",
            "layout": "IPY_MODEL_f56c625272964457bfd62bf44b9d91b7"
          }
        },
        "165533fab84c4c92b583f67aea948505": {
          "model_module": "@jupyter-widgets/controls",
          "model_name": "FloatProgressModel",
          "model_module_version": "1.5.0",
          "state": {
            "_view_name": "ProgressView",
            "style": "IPY_MODEL_5ce3ecd1f3424dd9b9178580c2aec549",
            "_dom_classes": [],
            "description": "",
            "_model_name": "FloatProgressModel",
            "bar_style": "success",
            "max": 4422102,
            "_view_module": "@jupyter-widgets/controls",
            "_model_module_version": "1.5.0",
            "value": 4422102,
            "_view_count": null,
            "_view_module_version": "1.5.0",
            "orientation": "horizontal",
            "min": 0,
            "description_tooltip": null,
            "_model_module": "@jupyter-widgets/controls",
            "layout": "IPY_MODEL_d8e17e9fada84b3cbfd017323e6e1164"
          }
        },
        "ffa2b25919f545f89cc36a9dc146e917": {
          "model_module": "@jupyter-widgets/controls",
          "model_name": "HTMLModel",
          "model_module_version": "1.5.0",
          "state": {
            "_view_name": "HTMLView",
            "style": "IPY_MODEL_6838809c6de34840ae009d146fe36363",
            "_dom_classes": [],
            "description": "",
            "_model_name": "HTMLModel",
            "placeholder": "​",
            "_view_module": "@jupyter-widgets/controls",
            "_model_module_version": "1.5.0",
            "value": " 4422656/? [00:00&lt;00:00, 9268653.71it/s]",
            "_view_count": null,
            "_view_module_version": "1.5.0",
            "description_tooltip": null,
            "_model_module": "@jupyter-widgets/controls",
            "layout": "IPY_MODEL_b4b5db4d02804032b2f660353df58285"
          }
        },
        "486fdf11d0b844d3810962d60187e388": {
          "model_module": "@jupyter-widgets/controls",
          "model_name": "DescriptionStyleModel",
          "model_module_version": "1.5.0",
          "state": {
            "_view_name": "StyleView",
            "_model_name": "DescriptionStyleModel",
            "description_width": "",
            "_view_module": "@jupyter-widgets/base",
            "_model_module_version": "1.5.0",
            "_view_count": null,
            "_view_module_version": "1.2.0",
            "_model_module": "@jupyter-widgets/controls"
          }
        },
        "f56c625272964457bfd62bf44b9d91b7": {
          "model_module": "@jupyter-widgets/base",
          "model_name": "LayoutModel",
          "model_module_version": "1.2.0",
          "state": {
            "_view_name": "LayoutView",
            "grid_template_rows": null,
            "right": null,
            "justify_content": null,
            "_view_module": "@jupyter-widgets/base",
            "overflow": null,
            "_model_module_version": "1.2.0",
            "_view_count": null,
            "flex_flow": null,
            "width": null,
            "min_width": null,
            "border": null,
            "align_items": null,
            "bottom": null,
            "_model_module": "@jupyter-widgets/base",
            "top": null,
            "grid_column": null,
            "overflow_y": null,
            "overflow_x": null,
            "grid_auto_flow": null,
            "grid_area": null,
            "grid_template_columns": null,
            "flex": null,
            "_model_name": "LayoutModel",
            "justify_items": null,
            "grid_row": null,
            "max_height": null,
            "align_content": null,
            "visibility": null,
            "align_self": null,
            "height": null,
            "min_height": null,
            "padding": null,
            "grid_auto_rows": null,
            "grid_gap": null,
            "max_width": null,
            "order": null,
            "_view_module_version": "1.2.0",
            "grid_template_areas": null,
            "object_position": null,
            "object_fit": null,
            "grid_auto_columns": null,
            "margin": null,
            "display": null,
            "left": null
          }
        },
        "5ce3ecd1f3424dd9b9178580c2aec549": {
          "model_module": "@jupyter-widgets/controls",
          "model_name": "ProgressStyleModel",
          "model_module_version": "1.5.0",
          "state": {
            "_view_name": "StyleView",
            "_model_name": "ProgressStyleModel",
            "description_width": "",
            "_view_module": "@jupyter-widgets/base",
            "_model_module_version": "1.5.0",
            "_view_count": null,
            "_view_module_version": "1.2.0",
            "bar_color": null,
            "_model_module": "@jupyter-widgets/controls"
          }
        },
        "d8e17e9fada84b3cbfd017323e6e1164": {
          "model_module": "@jupyter-widgets/base",
          "model_name": "LayoutModel",
          "model_module_version": "1.2.0",
          "state": {
            "_view_name": "LayoutView",
            "grid_template_rows": null,
            "right": null,
            "justify_content": null,
            "_view_module": "@jupyter-widgets/base",
            "overflow": null,
            "_model_module_version": "1.2.0",
            "_view_count": null,
            "flex_flow": null,
            "width": null,
            "min_width": null,
            "border": null,
            "align_items": null,
            "bottom": null,
            "_model_module": "@jupyter-widgets/base",
            "top": null,
            "grid_column": null,
            "overflow_y": null,
            "overflow_x": null,
            "grid_auto_flow": null,
            "grid_area": null,
            "grid_template_columns": null,
            "flex": null,
            "_model_name": "LayoutModel",
            "justify_items": null,
            "grid_row": null,
            "max_height": null,
            "align_content": null,
            "visibility": null,
            "align_self": null,
            "height": null,
            "min_height": null,
            "padding": null,
            "grid_auto_rows": null,
            "grid_gap": null,
            "max_width": null,
            "order": null,
            "_view_module_version": "1.2.0",
            "grid_template_areas": null,
            "object_position": null,
            "object_fit": null,
            "grid_auto_columns": null,
            "margin": null,
            "display": null,
            "left": null
          }
        },
        "6838809c6de34840ae009d146fe36363": {
          "model_module": "@jupyter-widgets/controls",
          "model_name": "DescriptionStyleModel",
          "model_module_version": "1.5.0",
          "state": {
            "_view_name": "StyleView",
            "_model_name": "DescriptionStyleModel",
            "description_width": "",
            "_view_module": "@jupyter-widgets/base",
            "_model_module_version": "1.5.0",
            "_view_count": null,
            "_view_module_version": "1.2.0",
            "_model_module": "@jupyter-widgets/controls"
          }
        },
        "b4b5db4d02804032b2f660353df58285": {
          "model_module": "@jupyter-widgets/base",
          "model_name": "LayoutModel",
          "model_module_version": "1.2.0",
          "state": {
            "_view_name": "LayoutView",
            "grid_template_rows": null,
            "right": null,
            "justify_content": null,
            "_view_module": "@jupyter-widgets/base",
            "overflow": null,
            "_model_module_version": "1.2.0",
            "_view_count": null,
            "flex_flow": null,
            "width": null,
            "min_width": null,
            "border": null,
            "align_items": null,
            "bottom": null,
            "_model_module": "@jupyter-widgets/base",
            "top": null,
            "grid_column": null,
            "overflow_y": null,
            "overflow_x": null,
            "grid_auto_flow": null,
            "grid_area": null,
            "grid_template_columns": null,
            "flex": null,
            "_model_name": "LayoutModel",
            "justify_items": null,
            "grid_row": null,
            "max_height": null,
            "align_content": null,
            "visibility": null,
            "align_self": null,
            "height": null,
            "min_height": null,
            "padding": null,
            "grid_auto_rows": null,
            "grid_gap": null,
            "max_width": null,
            "order": null,
            "_view_module_version": "1.2.0",
            "grid_template_areas": null,
            "object_position": null,
            "object_fit": null,
            "grid_auto_columns": null,
            "margin": null,
            "display": null,
            "left": null
          }
        },
        "fa3104ec537d482f9450366774bbf814": {
          "model_module": "@jupyter-widgets/controls",
          "model_name": "HBoxModel",
          "model_module_version": "1.5.0",
          "state": {
            "_view_name": "HBoxView",
            "_dom_classes": [],
            "_model_name": "HBoxModel",
            "_view_module": "@jupyter-widgets/controls",
            "_model_module_version": "1.5.0",
            "_view_count": null,
            "_view_module_version": "1.5.0",
            "box_style": "",
            "layout": "IPY_MODEL_d880cb9646704b8c80aec1e103caebf1",
            "_model_module": "@jupyter-widgets/controls",
            "children": [
              "IPY_MODEL_097b5e144db64681bcc3614e9f3f9a11",
              "IPY_MODEL_ebe5a1f2d0084d0e97edcc89bcff964e",
              "IPY_MODEL_bfa0feadb5294b21af60797f89a0b23d"
            ]
          }
        },
        "d880cb9646704b8c80aec1e103caebf1": {
          "model_module": "@jupyter-widgets/base",
          "model_name": "LayoutModel",
          "model_module_version": "1.2.0",
          "state": {
            "_view_name": "LayoutView",
            "grid_template_rows": null,
            "right": null,
            "justify_content": null,
            "_view_module": "@jupyter-widgets/base",
            "overflow": null,
            "_model_module_version": "1.2.0",
            "_view_count": null,
            "flex_flow": null,
            "width": null,
            "min_width": null,
            "border": null,
            "align_items": null,
            "bottom": null,
            "_model_module": "@jupyter-widgets/base",
            "top": null,
            "grid_column": null,
            "overflow_y": null,
            "overflow_x": null,
            "grid_auto_flow": null,
            "grid_area": null,
            "grid_template_columns": null,
            "flex": null,
            "_model_name": "LayoutModel",
            "justify_items": null,
            "grid_row": null,
            "max_height": null,
            "align_content": null,
            "visibility": null,
            "align_self": null,
            "height": null,
            "min_height": null,
            "padding": null,
            "grid_auto_rows": null,
            "grid_gap": null,
            "max_width": null,
            "order": null,
            "_view_module_version": "1.2.0",
            "grid_template_areas": null,
            "object_position": null,
            "object_fit": null,
            "grid_auto_columns": null,
            "margin": null,
            "display": null,
            "left": null
          }
        },
        "097b5e144db64681bcc3614e9f3f9a11": {
          "model_module": "@jupyter-widgets/controls",
          "model_name": "HTMLModel",
          "model_module_version": "1.5.0",
          "state": {
            "_view_name": "HTMLView",
            "style": "IPY_MODEL_dabfde63040d4486b9d9653c082f7dc5",
            "_dom_classes": [],
            "description": "",
            "_model_name": "HTMLModel",
            "placeholder": "​",
            "_view_module": "@jupyter-widgets/controls",
            "_model_module_version": "1.5.0",
            "value": "",
            "_view_count": null,
            "_view_module_version": "1.5.0",
            "description_tooltip": null,
            "_model_module": "@jupyter-widgets/controls",
            "layout": "IPY_MODEL_2ba069a97b4c42efb02d223f26978769"
          }
        },
        "ebe5a1f2d0084d0e97edcc89bcff964e": {
          "model_module": "@jupyter-widgets/controls",
          "model_name": "FloatProgressModel",
          "model_module_version": "1.5.0",
          "state": {
            "_view_name": "ProgressView",
            "style": "IPY_MODEL_091810032321429facdf4b67b16bcd21",
            "_dom_classes": [],
            "description": "",
            "_model_name": "FloatProgressModel",
            "bar_style": "success",
            "max": 5148,
            "_view_module": "@jupyter-widgets/controls",
            "_model_module_version": "1.5.0",
            "value": 5148,
            "_view_count": null,
            "_view_module_version": "1.5.0",
            "orientation": "horizontal",
            "min": 0,
            "description_tooltip": null,
            "_model_module": "@jupyter-widgets/controls",
            "layout": "IPY_MODEL_1fe1fa83d1894d7097d4845d96f2b148"
          }
        },
        "bfa0feadb5294b21af60797f89a0b23d": {
          "model_module": "@jupyter-widgets/controls",
          "model_name": "HTMLModel",
          "model_module_version": "1.5.0",
          "state": {
            "_view_name": "HTMLView",
            "style": "IPY_MODEL_14a85a7ef2e74a9ba2b6dd27e6c878f6",
            "_dom_classes": [],
            "description": "",
            "_model_name": "HTMLModel",
            "placeholder": "​",
            "_view_module": "@jupyter-widgets/controls",
            "_model_module_version": "1.5.0",
            "value": " 6144/? [00:00&lt;00:00, 159419.26it/s]",
            "_view_count": null,
            "_view_module_version": "1.5.0",
            "description_tooltip": null,
            "_model_module": "@jupyter-widgets/controls",
            "layout": "IPY_MODEL_e655a03c39044720a5477e794c4c74e2"
          }
        },
        "dabfde63040d4486b9d9653c082f7dc5": {
          "model_module": "@jupyter-widgets/controls",
          "model_name": "DescriptionStyleModel",
          "model_module_version": "1.5.0",
          "state": {
            "_view_name": "StyleView",
            "_model_name": "DescriptionStyleModel",
            "description_width": "",
            "_view_module": "@jupyter-widgets/base",
            "_model_module_version": "1.5.0",
            "_view_count": null,
            "_view_module_version": "1.2.0",
            "_model_module": "@jupyter-widgets/controls"
          }
        },
        "2ba069a97b4c42efb02d223f26978769": {
          "model_module": "@jupyter-widgets/base",
          "model_name": "LayoutModel",
          "model_module_version": "1.2.0",
          "state": {
            "_view_name": "LayoutView",
            "grid_template_rows": null,
            "right": null,
            "justify_content": null,
            "_view_module": "@jupyter-widgets/base",
            "overflow": null,
            "_model_module_version": "1.2.0",
            "_view_count": null,
            "flex_flow": null,
            "width": null,
            "min_width": null,
            "border": null,
            "align_items": null,
            "bottom": null,
            "_model_module": "@jupyter-widgets/base",
            "top": null,
            "grid_column": null,
            "overflow_y": null,
            "overflow_x": null,
            "grid_auto_flow": null,
            "grid_area": null,
            "grid_template_columns": null,
            "flex": null,
            "_model_name": "LayoutModel",
            "justify_items": null,
            "grid_row": null,
            "max_height": null,
            "align_content": null,
            "visibility": null,
            "align_self": null,
            "height": null,
            "min_height": null,
            "padding": null,
            "grid_auto_rows": null,
            "grid_gap": null,
            "max_width": null,
            "order": null,
            "_view_module_version": "1.2.0",
            "grid_template_areas": null,
            "object_position": null,
            "object_fit": null,
            "grid_auto_columns": null,
            "margin": null,
            "display": null,
            "left": null
          }
        },
        "091810032321429facdf4b67b16bcd21": {
          "model_module": "@jupyter-widgets/controls",
          "model_name": "ProgressStyleModel",
          "model_module_version": "1.5.0",
          "state": {
            "_view_name": "StyleView",
            "_model_name": "ProgressStyleModel",
            "description_width": "",
            "_view_module": "@jupyter-widgets/base",
            "_model_module_version": "1.5.0",
            "_view_count": null,
            "_view_module_version": "1.2.0",
            "bar_color": null,
            "_model_module": "@jupyter-widgets/controls"
          }
        },
        "1fe1fa83d1894d7097d4845d96f2b148": {
          "model_module": "@jupyter-widgets/base",
          "model_name": "LayoutModel",
          "model_module_version": "1.2.0",
          "state": {
            "_view_name": "LayoutView",
            "grid_template_rows": null,
            "right": null,
            "justify_content": null,
            "_view_module": "@jupyter-widgets/base",
            "overflow": null,
            "_model_module_version": "1.2.0",
            "_view_count": null,
            "flex_flow": null,
            "width": null,
            "min_width": null,
            "border": null,
            "align_items": null,
            "bottom": null,
            "_model_module": "@jupyter-widgets/base",
            "top": null,
            "grid_column": null,
            "overflow_y": null,
            "overflow_x": null,
            "grid_auto_flow": null,
            "grid_area": null,
            "grid_template_columns": null,
            "flex": null,
            "_model_name": "LayoutModel",
            "justify_items": null,
            "grid_row": null,
            "max_height": null,
            "align_content": null,
            "visibility": null,
            "align_self": null,
            "height": null,
            "min_height": null,
            "padding": null,
            "grid_auto_rows": null,
            "grid_gap": null,
            "max_width": null,
            "order": null,
            "_view_module_version": "1.2.0",
            "grid_template_areas": null,
            "object_position": null,
            "object_fit": null,
            "grid_auto_columns": null,
            "margin": null,
            "display": null,
            "left": null
          }
        },
        "14a85a7ef2e74a9ba2b6dd27e6c878f6": {
          "model_module": "@jupyter-widgets/controls",
          "model_name": "DescriptionStyleModel",
          "model_module_version": "1.5.0",
          "state": {
            "_view_name": "StyleView",
            "_model_name": "DescriptionStyleModel",
            "description_width": "",
            "_view_module": "@jupyter-widgets/base",
            "_model_module_version": "1.5.0",
            "_view_count": null,
            "_view_module_version": "1.2.0",
            "_model_module": "@jupyter-widgets/controls"
          }
        },
        "e655a03c39044720a5477e794c4c74e2": {
          "model_module": "@jupyter-widgets/base",
          "model_name": "LayoutModel",
          "model_module_version": "1.2.0",
          "state": {
            "_view_name": "LayoutView",
            "grid_template_rows": null,
            "right": null,
            "justify_content": null,
            "_view_module": "@jupyter-widgets/base",
            "overflow": null,
            "_model_module_version": "1.2.0",
            "_view_count": null,
            "flex_flow": null,
            "width": null,
            "min_width": null,
            "border": null,
            "align_items": null,
            "bottom": null,
            "_model_module": "@jupyter-widgets/base",
            "top": null,
            "grid_column": null,
            "overflow_y": null,
            "overflow_x": null,
            "grid_auto_flow": null,
            "grid_area": null,
            "grid_template_columns": null,
            "flex": null,
            "_model_name": "LayoutModel",
            "justify_items": null,
            "grid_row": null,
            "max_height": null,
            "align_content": null,
            "visibility": null,
            "align_self": null,
            "height": null,
            "min_height": null,
            "padding": null,
            "grid_auto_rows": null,
            "grid_gap": null,
            "max_width": null,
            "order": null,
            "_view_module_version": "1.2.0",
            "grid_template_areas": null,
            "object_position": null,
            "object_fit": null,
            "grid_auto_columns": null,
            "margin": null,
            "display": null,
            "left": null
          }
        }
      }
    }
  },
  "cells": [
    {
      "cell_type": "markdown",
      "metadata": {
        "id": "view-in-github",
        "colab_type": "text"
      },
      "source": [
        "<a href=\"https://colab.research.google.com/github/FGalvao77/Tutorial-pratico-de-Deep-Learning-com-Pytorch/blob/main/Tutorial_pr%C3%A1tico_de_Deep_Learning_com_Pytorch.ipynb\" target=\"_parent\"><img src=\"https://colab.research.google.com/assets/colab-badge.svg\" alt=\"Open In Colab\"/></a>"
      ]
    },
    {
      "cell_type": "markdown",
      "metadata": {
        "id": "678St6nlP1lp"
      },
      "source": [
        "# **Tutorial prático de Deep Learning com Pytorch**\n",
        "\n",
        "---\n",
        "<br> - Aprenda a treinar e avaliar seu modelo."
      ]
    },
    {
      "cell_type": "markdown",
      "metadata": {
        "id": "fG58bnNrQ50f"
      },
      "source": [
        "  - vídeo da aula: https://www.youtube.com/watch?v=hOnrwaOWSdE"
      ]
    },
    {
      "cell_type": "markdown",
      "metadata": {
        "id": "cf_HP9BoR7Ux"
      },
      "source": [
        "## **1) Importação das bibliotecas**"
      ]
    },
    {
      "cell_type": "code",
      "metadata": {
        "id": "uF7h0NwaPwvx"
      },
      "source": [
        "# importando as libs \n",
        "\n",
        "import numpy as np                # para modelagem matemática\n",
        "import matplotlib.pyplot as plt   # para visualização gráfica\n",
        "\n",
        "%matplotlib inline"
      ],
      "execution_count": 1,
      "outputs": []
    },
    {
      "cell_type": "code",
      "metadata": {
        "id": "r3n0n31bQHLz"
      },
      "source": [
        "# importando as funcs e libs \n",
        "\n",
        "from torchvision import datasets, transforms\n",
        "import torch\n",
        "import torch.nn as nn\n",
        "import torch.optim as optim\n",
        "\n",
        "from torch.utils.data import Dataset, DataLoader"
      ],
      "execution_count": 3,
      "outputs": []
    },
    {
      "cell_type": "markdown",
      "metadata": {
        "id": "lmztSb26Abm_"
      },
      "source": [
        "![image.png](data:image/png;base64,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)\n",
        "\n",
        "---\n",
        "\n",
        "\n",
        "Site oficial:\n",
        "- https://pytorch.org/\n",
        "\n",
        "<br>Tutorial:\n",
        "- https://pytorch.org/tutorials/beginner/basics/data_tutorial.html"
      ]
    },
    {
      "cell_type": "markdown",
      "metadata": {
        "id": "w-ej4Rl4TmZ1"
      },
      "source": [
        "## **2) Importação dos dados**"
      ]
    },
    {
      "cell_type": "code",
      "metadata": {
        "id": "f6P9-3olQHKx"
      },
      "source": [
        "# criando um objeto para aplicação de um tensor\n",
        "\n",
        "transform = transforms.Compose([transforms.ToTensor(), \n",
        "                                transforms.Normalize((0.5, ), (0.5, ))])"
      ],
      "execution_count": 4,
      "outputs": []
    },
    {
      "cell_type": "markdown",
      "metadata": {
        "id": "tOERwU1RWKRw"
      },
      "source": [
        "> Define as transformações que serão aplicadas nos dados:\n",
        " - transforma os dados em tensores e as normaliza\n",
        "  - média e desvio-padrão são tuplas"
      ]
    },
    {
      "cell_type": "code",
      "metadata": {
        "id": "68rXs8JwQHA8",
        "colab": {
          "base_uri": "https://localhost:8080/",
          "height": 471,
          "referenced_widgets": [
            "d7537bb60b6141fa88d6ac4a4f5ba5a7",
            "a953425790d944038c9245bc18ff5b35",
            "f35e9972947a46f09f37b140fba32e55",
            "0ac92cc96ef2401ba5da7be11c9bf8da",
            "585026930aaa4e48a0a590aeb88b5e81",
            "c8ff336ac54e43448f49afd049072b7b",
            "625b390453ec44d88cfebba9edeb9af3",
            "6a4ef99046a74f06b5fe2a59cbf57a91",
            "ef04654e16e14b51a14a5ddaa7ed8153",
            "7d6b80cfdaa8471cbd3f1be08a7ee5c9",
            "db46ccca6a8545a4952a8b5c6438e745",
            "38e355109b98401bac353dae229eeeb6",
            "58bb7750eb5d4934b2f423f2c7a55701",
            "ad9e778f24bd4a709e3e979994aaa7a9",
            "952214dc0a344faeb1ed0eaf26dfa175",
            "ed4738bc03894410a76d12697eefd28a",
            "8f62b4b66a4241f782da946c09171d32",
            "dbcfb570e7e3480496d5d6bf976b5325",
            "31eae29189bf4587afa01dbefea15da7",
            "9d361baa23024ca7a7a878e45845daa9",
            "2cab0c7717694ad9a481a147b7fd0285",
            "e9713f4c0b8b4170998df7c653dd945c",
            "b3f4fd9653ab40ef82adb75204f4bbc4",
            "ee8613276363426f8bfc58be4bfd9101",
            "7f1796ceee2a4155a224f473734b101d",
            "165533fab84c4c92b583f67aea948505",
            "ffa2b25919f545f89cc36a9dc146e917",
            "486fdf11d0b844d3810962d60187e388",
            "f56c625272964457bfd62bf44b9d91b7",
            "5ce3ecd1f3424dd9b9178580c2aec549",
            "d8e17e9fada84b3cbfd017323e6e1164",
            "6838809c6de34840ae009d146fe36363",
            "b4b5db4d02804032b2f660353df58285",
            "fa3104ec537d482f9450366774bbf814",
            "d880cb9646704b8c80aec1e103caebf1",
            "097b5e144db64681bcc3614e9f3f9a11",
            "ebe5a1f2d0084d0e97edcc89bcff964e",
            "bfa0feadb5294b21af60797f89a0b23d",
            "dabfde63040d4486b9d9653c082f7dc5",
            "2ba069a97b4c42efb02d223f26978769",
            "091810032321429facdf4b67b16bcd21",
            "1fe1fa83d1894d7097d4845d96f2b148",
            "14a85a7ef2e74a9ba2b6dd27e6c878f6",
            "e655a03c39044720a5477e794c4c74e2"
          ]
        },
        "outputId": "6fff81ca-07fa-428d-9678-30110c0465b2"
      },
      "source": [
        "# download dos dados de treino e de teste\n",
        "\n",
        "train_set = datasets.FashionMNIST('~/.pytorch/F_NMIST_data/', \n",
        "                                     download = True, train = True,\n",
        "                                     transform = transform)\n",
        "\n",
        "test_set = datasets.FashionMNIST('~/.pytorch/F_NMIST_data/', \n",
        "                                     download = True, train = False,\n",
        "                                     transform = transform)"
      ],
      "execution_count": 5,
      "outputs": [
        {
          "output_type": "stream",
          "name": "stdout",
          "text": [
            "Downloading http://fashion-mnist.s3-website.eu-central-1.amazonaws.com/train-images-idx3-ubyte.gz\n",
            "Downloading http://fashion-mnist.s3-website.eu-central-1.amazonaws.com/train-images-idx3-ubyte.gz to /root/.pytorch/F_NMIST_data/FashionMNIST/raw/train-images-idx3-ubyte.gz\n"
          ]
        },
        {
          "output_type": "display_data",
          "data": {
            "application/vnd.jupyter.widget-view+json": {
              "model_id": "d7537bb60b6141fa88d6ac4a4f5ba5a7",
              "version_minor": 0,
              "version_major": 2
            },
            "text/plain": [
              "  0%|          | 0/26421880 [00:00<?, ?it/s]"
            ]
          },
          "metadata": {}
        },
        {
          "output_type": "stream",
          "name": "stdout",
          "text": [
            "Extracting /root/.pytorch/F_NMIST_data/FashionMNIST/raw/train-images-idx3-ubyte.gz to /root/.pytorch/F_NMIST_data/FashionMNIST/raw\n",
            "\n",
            "Downloading http://fashion-mnist.s3-website.eu-central-1.amazonaws.com/train-labels-idx1-ubyte.gz\n",
            "Downloading http://fashion-mnist.s3-website.eu-central-1.amazonaws.com/train-labels-idx1-ubyte.gz to /root/.pytorch/F_NMIST_data/FashionMNIST/raw/train-labels-idx1-ubyte.gz\n"
          ]
        },
        {
          "output_type": "display_data",
          "data": {
            "application/vnd.jupyter.widget-view+json": {
              "model_id": "38e355109b98401bac353dae229eeeb6",
              "version_minor": 0,
              "version_major": 2
            },
            "text/plain": [
              "  0%|          | 0/29515 [00:00<?, ?it/s]"
            ]
          },
          "metadata": {}
        },
        {
          "output_type": "stream",
          "name": "stdout",
          "text": [
            "Extracting /root/.pytorch/F_NMIST_data/FashionMNIST/raw/train-labels-idx1-ubyte.gz to /root/.pytorch/F_NMIST_data/FashionMNIST/raw\n",
            "\n",
            "Downloading http://fashion-mnist.s3-website.eu-central-1.amazonaws.com/t10k-images-idx3-ubyte.gz\n",
            "Downloading http://fashion-mnist.s3-website.eu-central-1.amazonaws.com/t10k-images-idx3-ubyte.gz to /root/.pytorch/F_NMIST_data/FashionMNIST/raw/t10k-images-idx3-ubyte.gz\n"
          ]
        },
        {
          "output_type": "display_data",
          "data": {
            "application/vnd.jupyter.widget-view+json": {
              "model_id": "b3f4fd9653ab40ef82adb75204f4bbc4",
              "version_minor": 0,
              "version_major": 2
            },
            "text/plain": [
              "  0%|          | 0/4422102 [00:00<?, ?it/s]"
            ]
          },
          "metadata": {}
        },
        {
          "output_type": "stream",
          "name": "stdout",
          "text": [
            "Extracting /root/.pytorch/F_NMIST_data/FashionMNIST/raw/t10k-images-idx3-ubyte.gz to /root/.pytorch/F_NMIST_data/FashionMNIST/raw\n",
            "\n",
            "Downloading http://fashion-mnist.s3-website.eu-central-1.amazonaws.com/t10k-labels-idx1-ubyte.gz\n",
            "Downloading http://fashion-mnist.s3-website.eu-central-1.amazonaws.com/t10k-labels-idx1-ubyte.gz to /root/.pytorch/F_NMIST_data/FashionMNIST/raw/t10k-labels-idx1-ubyte.gz\n"
          ]
        },
        {
          "output_type": "display_data",
          "data": {
            "application/vnd.jupyter.widget-view+json": {
              "model_id": "fa3104ec537d482f9450366774bbf814",
              "version_minor": 0,
              "version_major": 2
            },
            "text/plain": [
              "  0%|          | 0/5148 [00:00<?, ?it/s]"
            ]
          },
          "metadata": {}
        },
        {
          "output_type": "stream",
          "name": "stdout",
          "text": [
            "Extracting /root/.pytorch/F_NMIST_data/FashionMNIST/raw/t10k-labels-idx1-ubyte.gz to /root/.pytorch/F_NMIST_data/FashionMNIST/raw\n",
            "\n"
          ]
        },
        {
          "output_type": "stream",
          "name": "stderr",
          "text": [
            "/usr/local/lib/python3.7/dist-packages/torchvision/datasets/mnist.py:498: UserWarning: The given NumPy array is not writeable, and PyTorch does not support non-writeable tensors. This means you can write to the underlying (supposedly non-writeable) NumPy array using the tensor. You may want to copy the array to protect its data or make it writeable before converting it to a tensor. This type of warning will be suppressed for the rest of this program. (Triggered internally at  /pytorch/torch/csrc/utils/tensor_numpy.cpp:180.)\n",
            "  return torch.from_numpy(parsed.astype(m[2], copy=False)).view(*s)\n"
          ]
        }
      ]
    },
    {
      "cell_type": "code",
      "metadata": {
        "id": "etYwSDOhQG7G"
      },
      "source": [
        "# criando o loader dos dados\n",
        "\n",
        "train_loader = torch.utils.data.DataLoader(train_set, \n",
        "                                           batch_size = 64, \n",
        "                                           shuffle = True)\n",
        "\n",
        "test_loader = torch.utils.data.DataLoader(test_set, \n",
        "                                           batch_size = 64, \n",
        "                                           shuffle = True)"
      ],
      "execution_count": 6,
      "outputs": []
    },
    {
      "cell_type": "code",
      "metadata": {
        "colab": {
          "base_uri": "https://localhost:8080/"
        },
        "id": "FpbaUte2QGtv",
        "outputId": "0c8655f4-852c-49da-dc34-20fa9651fc9a"
      },
      "source": [
        "# visualizando o tamanho dos conjuntos de dados\n",
        "\n",
        "print('train data: ', len(train_loader.sampler))\n",
        "print('test data: ', len(test_loader.sampler))"
      ],
      "execution_count": 7,
      "outputs": [
        {
          "output_type": "stream",
          "name": "stdout",
          "text": [
            "train data:  60000\n",
            "test data:  10000\n"
          ]
        }
      ]
    },
    {
      "cell_type": "code",
      "metadata": {
        "colab": {
          "base_uri": "https://localhost:8080/"
        },
        "id": "b1tbjQCPQGeN",
        "outputId": "6dbf13a1-1226-4448-96d4-119f36ae90d8"
      },
      "source": [
        "# explorando os dados\n",
        "\n",
        "data_iter = iter(train_loader)\n",
        "images, labels = data_iter.next()\n",
        "\n",
        "# visualizando informações gerais\n",
        "print(type(images))\n",
        "print(images.shape)\n",
        "print(labels.shape)"
      ],
      "execution_count": 8,
      "outputs": [
        {
          "output_type": "stream",
          "name": "stdout",
          "text": [
            "<class 'torch.Tensor'>\n",
            "torch.Size([64, 1, 28, 28])\n",
            "torch.Size([64])\n"
          ]
        }
      ]
    },
    {
      "cell_type": "code",
      "metadata": {
        "colab": {
          "base_uri": "https://localhost:8080/"
        },
        "id": "MKoRxp3L-Pwg",
        "outputId": "7d0d8140-4ba7-4312-97d2-fd14d8bca808"
      },
      "source": [
        "datasets.MNIST"
      ],
      "execution_count": 32,
      "outputs": [
        {
          "output_type": "execute_result",
          "data": {
            "text/plain": [
              "torchvision.datasets.mnist.MNIST"
            ]
          },
          "metadata": {},
          "execution_count": 32
        }
      ]
    },
    {
      "cell_type": "code",
      "metadata": {
        "colab": {
          "base_uri": "https://localhost:8080/",
          "height": 657
        },
        "id": "RdtrEnXlQGOR",
        "outputId": "8e3a8a87-9c77-4923-d29c-860f48ecd8ce"
      },
      "source": [
        "# visualizando as imagens\n",
        "\n",
        "fig = plt.figure(figsize = (18, 9))\n",
        "rows = 4\n",
        "columns = 5\n",
        "\n",
        "fashion_classes = {0: 'T-shirt/top',\n",
        "                   1: 'Trouser',\n",
        "                   2: 'Pullower', \n",
        "                   3: 'Dress', \n",
        "                   4: 'Coat', \n",
        "                   5: 'Sandal',\n",
        "                   6: 'Shirt', \n",
        "                   7: 'Sneaker', \n",
        "                   8: 'Bag', \n",
        "                   9: 'Ankle boot'}\n",
        "\n",
        "for idx in np.arange(20):\n",
        "  ax = fig.add_subplot(rows, columns,\n",
        "                       idx + 1, xticks = [], \n",
        "                       yticks = [])\n",
        "  ax.imshow(images[idx].numpy().squeeze(), \n",
        "            cmap = 'gray')\n",
        "  ax.set_title(fashion_classes[labels[idx].item()])\n",
        "  fig.tight_layout()"
      ],
      "execution_count": 9,
      "outputs": [
        {
          "output_type": "display_data",
          "data": {
            "image/png": "[encoded data removed]",
            "text/plain": [
              "<Figure size 1296x648 with 20 Axes>"
            ]
          },
          "metadata": {}
        }
      ]
    },
    {
      "cell_type": "code",
      "metadata": {
        "id": "b4cHAwEwQEUP"
      },
      "source": [
        "# importando as libs\n",
        "\n",
        "from torch import nn, optim\n",
        "import torch.nn.functional as F"
      ],
      "execution_count": 10,
      "outputs": []
    },
    {
      "cell_type": "code",
      "metadata": {
        "id": "RknAJJDpQENW"
      },
      "source": [
        "# criando uma funcão para aplicação das camadas de redes neurais\n",
        "\n",
        "class Modelo(nn.Module):\n",
        "  def __init__(self):\n",
        "    super().__init__()\n",
        "                  # entrada | saída\n",
        "    self.fc1 = nn.Linear(784, 256)\n",
        "    self.fc2 = nn.Linear(256, 128)\n",
        "    self.fc3 = nn.Linear(128, 64)\n",
        "    self.fc4 = nn.Linear(64, 10)\n",
        "\n",
        "  def forward(self, x):\n",
        "    x = x.view(x.shape[0], -1)\n",
        "\n",
        "    x = F.relu(self.fc1(x))\n",
        "    x = F.relu(self.fc2(x))\n",
        "    x = F.relu(self.fc3(x))\n",
        "    x = F.log_softmax(self.fc4(x), \n",
        "                      dim = 1)\n",
        "    \n",
        "    return x"
      ],
      "execution_count": 11,
      "outputs": []
    },
    {
      "cell_type": "code",
      "metadata": {
        "id": "F1USMD-RQD--"
      },
      "source": [
        "# instanciando o modelo\n",
        "\n",
        "model = Modelo()\n",
        "\n",
        "# definindo a função LOSS e o otimizador\n",
        "criterion = nn.NLLLoss()\n",
        "optimizer = optim.SGD(model.parameters(), \n",
        "                      lr = 0.01)"
      ],
      "execution_count": 12,
      "outputs": []
    },
    {
      "cell_type": "code",
      "metadata": {
        "colab": {
          "base_uri": "https://localhost:8080/"
        },
        "id": "F3xu8_zzQD0Y",
        "outputId": "a07d9c30-3425-49fc-dab6-f327d267a8e4"
      },
      "source": [
        "min_validation_loss = np.inf\n",
        "epochs = 15\n",
        "\n",
        "# preparando o modelo para treinar\n",
        "# model.train()\n",
        "train_loss_list, validation_loss_list = [], [] # criando duas listas para armazenar os valores\n",
        "\n",
        "for epoch in range(epochs):\n",
        "  model.train()\n",
        "  running_loss = 0\n",
        "  validation_loss = 0\n",
        "  \n",
        "  # treinando o modelo\n",
        "  for images, labels in train_loader:\n",
        "    # treinando\n",
        "    optimizer.zero_grad()\n",
        "    log_probs = model(images)\n",
        "    loss = criterion(log_probs, labels)\n",
        "    loss.backward()\n",
        "    optimizer.step() \n",
        "    running_loss += loss.item() * images.size(0)\n",
        "    # running_loss += loss.item()\n",
        "\n",
        "  model.eval()\n",
        "  with torch.no_grad():\n",
        "    total = 0\n",
        "    correct = 0\n",
        "\n",
        "    for images, labels in test_loader: \n",
        "      log_probs = model(images)\n",
        "      loss = criterion(log_probs, labels)\n",
        "      validation_loss += loss.item() * images.size(0)\n",
        "      # validation_loss += loss.iter()\n",
        "      max_class = torch.argmax(log_probs, dim = 1)\n",
        "      total += labels.numel()\n",
        "      correct += sum(max_class == labels).item()\n",
        "\n",
        "    print('Acurácia de teste: {:.2f}%'.format(correct / total * 100))\n",
        "\n",
        "  running_loss = running_loss / len(train_loader.sampler)\n",
        "  validation_loss = validation_loss / len(test_loader.sampler)\n",
        "\n",
        "  train_loss_list.append(running_loss)\n",
        "  validation_loss_list.append(validation_loss)\n",
        "\n",
        "  print('Epoch: {}/{}:'.format(epoch+1, epochs), \n",
        "        'Loss treino: {:.6f}...'.format(running_loss), \n",
        "        'Loss validação: {:.6f}...'.format(validation_loss))\n",
        "  \n",
        "  if validation_loss <= min_validation_loss:\n",
        "    print('Validation loss anterior {} --> Validation loss novo {}. Salvando modelo.'.format(min_validation_loss, \n",
        "                                                                                             validation_loss))\n",
        "    \n",
        "    torch.save(model.state_dict(), 'modelo.pth')\n",
        "    min_validation_loss = validation_loss\n",
        "\n",
        "  print()"
      ],
      "execution_count": 13,
      "outputs": [
        {
          "output_type": "stream",
          "name": "stdout",
          "text": [
            "Acurácia de teste: 70.46%\n",
            "Epoch: 1/15: Loss treino: 1.361561... Loss validação: 0.759369...\n",
            "Validation loss anterior inf --> Validation loss novo 0.7593694035530091. Salvando modelo.\n",
            "\n",
            "Acurácia de teste: 77.27%\n",
            "Epoch: 2/15: Loss treino: 0.640406... Loss validação: 0.606364...\n",
            "Validation loss anterior 0.7593694035530091 --> Validation loss novo 0.6063638217926025. Salvando modelo.\n",
            "\n",
            "Acurácia de teste: 79.85%\n",
            "Epoch: 3/15: Loss treino: 0.531392... Loss validação: 0.554955...\n",
            "Validation loss anterior 0.6063638217926025 --> Validation loss novo 0.5549546418190002. Salvando modelo.\n",
            "\n",
            "Acurácia de teste: 81.61%\n",
            "Epoch: 4/15: Loss treino: 0.479087... Loss validação: 0.510399...\n",
            "Validation loss anterior 0.5549546418190002 --> Validation loss novo 0.5103990155696869. Salvando modelo.\n",
            "\n",
            "Acurácia de teste: 83.42%\n",
            "Epoch: 5/15: Loss treino: 0.448621... Loss validação: 0.459192...\n",
            "Validation loss anterior 0.5103990155696869 --> Validation loss novo 0.45919207277297974. Salvando modelo.\n",
            "\n",
            "Acurácia de teste: 83.64%\n",
            "Epoch: 6/15: Loss treino: 0.424223... Loss validação: 0.447396...\n",
            "Validation loss anterior 0.45919207277297974 --> Validation loss novo 0.4473957625389099. Salvando modelo.\n",
            "\n",
            "Acurácia de teste: 84.09%\n",
            "Epoch: 7/15: Loss treino: 0.406148... Loss validação: 0.440114...\n",
            "Validation loss anterior 0.4473957625389099 --> Validation loss novo 0.4401137878417969. Salvando modelo.\n",
            "\n",
            "Acurácia de teste: 84.50%\n",
            "Epoch: 8/15: Loss treino: 0.391197... Loss validação: 0.426584...\n",
            "Validation loss anterior 0.4401137878417969 --> Validation loss novo 0.4265844332933426. Salvando modelo.\n",
            "\n",
            "Acurácia de teste: 85.12%\n",
            "Epoch: 9/15: Loss treino: 0.378168... Loss validação: 0.420372...\n",
            "Validation loss anterior 0.4265844332933426 --> Validation loss novo 0.42037230696678163. Salvando modelo.\n",
            "\n",
            "Acurácia de teste: 83.25%\n",
            "Epoch: 10/15: Loss treino: 0.367382... Loss validação: 0.450873...\n",
            "\n",
            "Acurácia de teste: 85.76%\n",
            "Epoch: 11/15: Loss treino: 0.356751... Loss validação: 0.403369...\n",
            "Validation loss anterior 0.42037230696678163 --> Validation loss novo 0.4033686753749847. Salvando modelo.\n",
            "\n",
            "Acurácia de teste: 85.88%\n",
            "Epoch: 12/15: Loss treino: 0.346333... Loss validação: 0.400204...\n",
            "Validation loss anterior 0.4033686753749847 --> Validation loss novo 0.40020395245552065. Salvando modelo.\n",
            "\n",
            "Acurácia de teste: 85.70%\n",
            "Epoch: 13/15: Loss treino: 0.338983... Loss validação: 0.403430...\n",
            "\n",
            "Acurácia de teste: 85.69%\n",
            "Epoch: 14/15: Loss treino: 0.331678... Loss validação: 0.400901...\n",
            "\n",
            "Acurácia de teste: 86.25%\n",
            "Epoch: 15/15: Loss treino: 0.323277... Loss validação: 0.381206...\n",
            "Validation loss anterior 0.40020395245552065 --> Validation loss novo 0.3812060402870178. Salvando modelo.\n",
            "\n"
          ]
        }
      ]
    },
    {
      "cell_type": "code",
      "metadata": {
        "colab": {
          "base_uri": "https://localhost:8080/",
          "height": 483
        },
        "id": "xSFG7v4iQDrG",
        "outputId": "f8ffb9e3-5f87-4899-f8b8-02a00a1b50fb"
      },
      "source": [
        "# plotando gráfico com os valores de loss e validation\n",
        "\n",
        "plt.figure(figsize=(15, 8))\n",
        "plt.plot(train_loss_list, label = 'Loss treino')\n",
        "plt.plot(validation_loss_list, label = 'Validation treino')\n",
        "plt.legend();"
      ],
      "execution_count": 33,
      "outputs": [
        {
          "output_type": "display_data",
          "data": {
            "image/png": "[encoded data removed]",
            "text/plain": [
              "<Figure size 1080x576 with 1 Axes>"
            ]
          },
          "metadata": {
            "needs_background": "light"
          }
        }
      ]
    },
    {
      "cell_type": "code",
      "metadata": {
        "colab": {
          "base_uri": "https://localhost:8080/",
          "height": 657
        },
        "id": "gSL-szErQDgm",
        "outputId": "1b1c7e48-5df5-4a91-98fe-430d67e5075b"
      },
      "source": [
        "# verificando o resultado predito Vs real\n",
        "\n",
        "data_iter = iter(test_loader)\n",
        "images, labels = data_iter.next()\n",
        "output = model(images)\n",
        "\n",
        "fig = plt.figure(figsize=(18, 9))\n",
        "rows = 4\n",
        "columns = 5\n",
        "\n",
        "_, predictions = torch.max(output, 1)\n",
        "images = images.numpy()\n",
        "\n",
        "for idx in np.arange(20):\n",
        "  ax = fig.add_subplot(rows, columns, \n",
        "                       idx + 1, \n",
        "                       xticks = [], \n",
        "                       yticks = [])\n",
        "  ax.imshow(np.squeeze(images[idx]), \n",
        "            cmap = 'gray')\n",
        "  ax.set_title('predictited label: {} \\n real label: {}'.format(fashion_classes[predictions[idx].item()], \n",
        "                                              fashion_classes[labels[idx].item()]))\n",
        "  fig.tight_layout()"
      ],
      "execution_count": 38,
      "outputs": [
        {
          "output_type": "display_data",
          "data": {
            "image/png": "[encoded data removed]",
            "text/plain": [
              "<Figure size 1296x648 with 20 Axes>"
            ]
          },
          "metadata": {}
        }
      ]
    },
    {
      "cell_type": "code",
      "metadata": {
        "id": "P5P8vONtQDQf"
      },
      "source": [
        ""
      ],
      "execution_count": null,
      "outputs": []
    },
    {
      "cell_type": "code",
      "metadata": {
        "id": "fsS_FbS5QCp0"
      },
      "source": [
        ""
      ],
      "execution_count": null,
      "outputs": []
    },
    {
      "cell_type": "code",
      "metadata": {
        "id": "gXujjFMsQCFJ"
      },
      "source": [
        ""
      ],
      "execution_count": null,
      "outputs": []
    },
    {
      "cell_type": "code",
      "metadata": {
        "id": "5K7E2rE0QBE6"
      },
      "source": [
        ""
      ],
      "execution_count": null,
      "outputs": []
    },
    {
      "cell_type": "code",
      "metadata": {
        "id": "pTo82Y8UQAcG"
      },
      "source": [
        ""
      ],
      "execution_count": null,
      "outputs": []
    }
  ]
}